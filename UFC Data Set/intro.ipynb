{
 "cells": [
  {
   "cell_type": "markdown",
   "metadata": {},
   "source": [
    "# Introduction\n",
    "The UFC has their own official stat website for all fights they've had which can be found [here](http://www.ufcstats.com/statistics/events/completed). While the data is comprehensive, the data visualisations are rather basic and don't show much data. This can prevent UFC fans from getting a better understanding of a fight, specifically the breakdown of the type of strikes landed and where they landed. A tool that creates better and more detailed visualisations would be beneficial to fans and possibly fighters too. Having this data could also help to find any trends and possibly even make predictions based on the number of strikes landed and where they are being landed."
   ]
  },
  {
   "cell_type": "markdown",
   "metadata": {},
   "source": [
    "# Dataset\n",
    "The following [data set](https://www.kaggle.com/datasets/rajeevw/ufcdata/) will be used as it contains comprehensive and detailed information pulled from the official UFC stats website from 1993 to 2021."
   ]
  },
  {
   "cell_type": "markdown",
   "metadata": {},
   "source": [
    "# Setup"
   ]
  },
  {
   "cell_type": "code",
   "execution_count": 1,
   "metadata": {},
   "outputs": [
    {
     "name": "stdout",
     "output_type": "stream",
     "text": [
      "Requirement already satisfied: pandas in /opt/homebrew/lib/python3.11/site-packages (2.1.0)\n",
      "Requirement already satisfied: numpy>=1.23.2 in /opt/homebrew/lib/python3.11/site-packages (from pandas) (1.26.0)\n",
      "Requirement already satisfied: python-dateutil>=2.8.2 in /Users/denis.pk/Library/Python/3.11/lib/python/site-packages (from pandas) (2.8.2)\n",
      "Requirement already satisfied: pytz>=2020.1 in /opt/homebrew/lib/python3.11/site-packages (from pandas) (2023.3.post1)\n",
      "Requirement already satisfied: tzdata>=2022.1 in /opt/homebrew/lib/python3.11/site-packages (from pandas) (2023.3)\n",
      "Requirement already satisfied: six>=1.5 in /opt/homebrew/lib/python3.11/site-packages (from python-dateutil>=2.8.2->pandas) (1.16.0)\n",
      "\n",
      "\u001b[1m[\u001b[0m\u001b[34;49mnotice\u001b[0m\u001b[1;39;49m]\u001b[0m\u001b[39;49m A new release of pip is available: \u001b[0m\u001b[31;49m23.2.1\u001b[0m\u001b[39;49m -> \u001b[0m\u001b[32;49m23.3.1\u001b[0m\n",
      "\u001b[1m[\u001b[0m\u001b[34;49mnotice\u001b[0m\u001b[1;39;49m]\u001b[0m\u001b[39;49m To update, run: \u001b[0m\u001b[32;49mpython3.11 -m pip install --upgrade pip\u001b[0m\n",
      "Note: you may need to restart the kernel to use updated packages.\n"
     ]
    }
   ],
   "source": [
    "pip install pandas"
   ]
  },
  {
   "cell_type": "code",
   "execution_count": 2,
   "metadata": {},
   "outputs": [
    {
     "name": "stdout",
     "output_type": "stream",
     "text": [
      "Requirement already satisfied: numpy in /opt/homebrew/lib/python3.11/site-packages (1.26.0)\n",
      "\n",
      "\u001b[1m[\u001b[0m\u001b[34;49mnotice\u001b[0m\u001b[1;39;49m]\u001b[0m\u001b[39;49m A new release of pip is available: \u001b[0m\u001b[31;49m23.2.1\u001b[0m\u001b[39;49m -> \u001b[0m\u001b[32;49m23.3.1\u001b[0m\n",
      "\u001b[1m[\u001b[0m\u001b[34;49mnotice\u001b[0m\u001b[1;39;49m]\u001b[0m\u001b[39;49m To update, run: \u001b[0m\u001b[32;49mpython3.11 -m pip install --upgrade pip\u001b[0m\n",
      "Note: you may need to restart the kernel to use updated packages.\n"
     ]
    }
   ],
   "source": [
    "pip install numpy"
   ]
  },
  {
   "cell_type": "code",
   "execution_count": 3,
   "metadata": {},
   "outputs": [],
   "source": [
    "import pandas as pd\n",
    "ufc_data = pd.read_csv(\"data.csv\")"
   ]
  },
  {
   "cell_type": "markdown",
   "metadata": {},
   "source": [
    "# Pre-processing\n",
    "My initial aim is to create a visulisation similar to this:\n",
    "<br><img src=\"Sample Screenshot.png\" width=\"330\" height=\"300\"><br>\n",
    "This is a screenshot from a YouTube video which can be found [here](https://www.youtube.com/watch?v=TWafkxT699c&t=327s).\n",
    "\n",
    "This requires me to be able to reduce the dimensionality of the dataset to isolate only the columns that are relevant to what I wish to produce with my model."
   ]
  },
  {
   "cell_type": "code",
   "execution_count": 4,
   "metadata": {},
   "outputs": [
    {
     "name": "stdout",
     "output_type": "stream",
     "text": [
      "<class 'pandas.core.frame.DataFrame'>\n",
      "RangeIndex: 6012 entries, 0 to 6011\n",
      "Columns: 144 entries, R_fighter to R_age\n",
      "dtypes: bool(1), float64(106), int64(28), object(9)\n",
      "memory usage: 6.6+ MB\n",
      "None\n"
     ]
    }
   ],
   "source": [
    "# Returning high-level information on dataset\n",
    "print(ufc_data.info())"
   ]
  },
  {
   "cell_type": "code",
   "execution_count": 5,
   "metadata": {},
   "outputs": [
    {
     "name": "stdout",
     "output_type": "stream",
     "text": [
      "          B_avg_KD  B_avg_opp_KD  B_avg_SIG_STR_pct  B_avg_opp_SIG_STR_pct  \\\n",
      "count  4585.000000   4585.000000        4585.000000            4585.000000   \n",
      "mean      0.247476      0.176818           0.453310               0.434290   \n",
      "std       0.378509      0.324633           0.130458               0.132618   \n",
      "min       0.000000      0.000000           0.000000               0.000000   \n",
      "25%       0.000000      0.000000           0.376489               0.351045   \n",
      "50%       0.015625      0.000000           0.450000               0.427500   \n",
      "75%       0.500000      0.250000           0.527500               0.510000   \n",
      "max       5.000000      3.000000           1.000000               1.000000   \n",
      "\n",
      "       B_avg_TD_pct  B_avg_opp_TD_pct  B_avg_SUB_ATT  B_avg_opp_SUB_ATT  \\\n",
      "count   4585.000000       4585.000000    4585.000000        4585.000000   \n",
      "mean       0.292650          0.268742       0.478884           0.409276   \n",
      "std        0.273628          0.267178       0.724229           0.653826   \n",
      "min        0.000000          0.000000       0.000000           0.000000   \n",
      "25%        0.031250          0.033203       0.000000           0.000000   \n",
      "50%        0.250000          0.200000       0.148468           0.098389   \n",
      "75%        0.500000          0.422812       0.750000           0.531250   \n",
      "max        1.000000          1.000000       8.000000           7.000000   \n",
      "\n",
      "        B_avg_REV  B_avg_opp_REV  ...  R_win_by_Decision_Split  \\\n",
      "count  4585.00000    4585.000000  ...              6012.000000   \n",
      "mean      0.15673       0.141306  ...                 0.306886   \n",
      "std       0.34199       0.322623  ...                 0.619485   \n",
      "min       0.00000       0.000000  ...                 0.000000   \n",
      "25%       0.00000       0.000000  ...                 0.000000   \n",
      "50%       0.00000       0.000000  ...                 0.000000   \n",
      "75%       0.12500       0.125000  ...                 0.000000   \n",
      "max       4.00000       3.000000  ...                 5.000000   \n",
      "\n",
      "       R_win_by_Decision_Unanimous  R_win_by_KO/TKO  R_win_by_Submission  \\\n",
      "count                  6012.000000      6012.000000          6012.000000   \n",
      "mean                      1.251331         1.297572             0.796241   \n",
      "std                       1.681376         1.859955             1.355801   \n",
      "min                       0.000000         0.000000             0.000000   \n",
      "25%                       0.000000         0.000000             0.000000   \n",
      "50%                       1.000000         1.000000             0.000000   \n",
      "75%                       2.000000         2.000000             1.000000   \n",
      "max                      10.000000        11.000000            13.000000   \n",
      "\n",
      "       R_win_by_TKO_Doctor_Stoppage  R_Height_cms  R_Reach_cms  R_Weight_lbs  \\\n",
      "count                   6012.000000   6008.000000  5606.000000   6010.000000   \n",
      "mean                       0.069195    178.991788   183.562347    170.686356   \n",
      "std                        0.273980      8.812985    10.585313     35.724626   \n",
      "min                        0.000000    152.400000   152.400000    115.000000   \n",
      "25%                        0.000000    172.720000   177.800000    145.000000   \n",
      "50%                        0.000000    180.340000   182.880000    170.000000   \n",
      "75%                        0.000000    185.420000   190.500000    185.000000   \n",
      "max                        2.000000    210.820000   213.360000    345.000000   \n",
      "\n",
      "             B_age        R_age  \n",
      "count  5840.000000  5949.000000  \n",
      "mean     29.293151    29.598252  \n",
      "std       4.063297     4.167755  \n",
      "min      18.000000    19.000000  \n",
      "25%      26.000000    27.000000  \n",
      "50%      29.000000    29.000000  \n",
      "75%      32.000000    32.000000  \n",
      "max      51.000000    47.000000  \n",
      "\n",
      "[8 rows x 134 columns]\n"
     ]
    }
   ],
   "source": [
    "print(ufc_data.describe())"
   ]
  },
  {
   "cell_type": "code",
   "execution_count": 6,
   "metadata": {},
   "outputs": [
    {
     "name": "stdout",
     "output_type": "stream",
     "text": [
      "       B_avg_KD  B_avg_opp_KD  B_avg_SIG_STR_pct  B_avg_opp_SIG_STR_pct  \\\n",
      "count    4585.0        4585.0             4585.0                 4585.0   \n",
      "...         ...           ...                ...                    ...   \n",
      "\n",
      "       B_avg_TD_pct  B_avg_opp_TD_pct  B_avg_SUB_ATT  B_avg_opp_SUB_ATT  \\\n",
      "count        4585.0            4585.0         4585.0             4585.0   \n",
      "...             ...               ...            ...                ...   \n",
      "\n",
      "       B_avg_REV  B_avg_opp_REV  B_avg_SIG_STR_att  B_avg_SIG_STR_landed  \\\n",
      "count     4585.0         4585.0             4585.0                4585.0   \n",
      "...          ...            ...                ...                   ...   \n",
      "\n",
      "       B_avg_opp_SIG_STR_att  B_avg_opp_SIG_STR_landed  B_avg_TOTAL_STR_att  \\\n",
      "count                 4585.0                    4585.0               4585.0   \n",
      "...                      ...                       ...                  ...   \n",
      "\n",
      "       B_avg_TOTAL_STR_landed  B_avg_opp_TOTAL_STR_att  \\\n",
      "count                  4585.0                   4585.0   \n",
      "...                       ...                      ...   \n",
      "\n",
      "       B_avg_opp_TOTAL_STR_landed  B_avg_TD_att  B_avg_TD_landed  \\\n",
      "count                      4585.0        4585.0           4585.0   \n",
      "...                           ...           ...              ...   \n",
      "\n",
      "       B_avg_opp_TD_att  B_avg_opp_TD_landed  B_avg_HEAD_att  \\\n",
      "count            4585.0               4585.0          4585.0   \n",
      "...                 ...                  ...             ...   \n",
      "\n",
      "       B_avg_HEAD_landed  B_avg_opp_HEAD_att  B_avg_opp_HEAD_landed  \\\n",
      "count             4585.0              4585.0                 4585.0   \n",
      "...                  ...                 ...                    ...   \n",
      "\n",
      "       B_avg_BODY_att  B_avg_BODY_landed  B_avg_opp_BODY_att  \\\n",
      "count          4585.0             4585.0              4585.0   \n",
      "...               ...                ...                 ...   \n",
      "\n",
      "       B_avg_opp_BODY_landed  B_avg_LEG_att  B_avg_LEG_landed  \\\n",
      "count                 4585.0         4585.0            4585.0   \n",
      "...                      ...            ...               ...   \n",
      "\n",
      "       B_avg_opp_LEG_att  B_avg_opp_LEG_landed  B_avg_DISTANCE_att  \\\n",
      "count             4585.0                4585.0              4585.0   \n",
      "...                  ...                   ...                 ...   \n",
      "\n",
      "       B_avg_DISTANCE_landed  B_avg_opp_DISTANCE_att  \\\n",
      "count                 4585.0                  4585.0   \n",
      "...                      ...                     ...   \n",
      "\n",
      "       B_avg_opp_DISTANCE_landed  B_avg_CLINCH_att  B_avg_CLINCH_landed  \\\n",
      "count                     4585.0            4585.0               4585.0   \n",
      "...                          ...               ...                  ...   \n",
      "\n",
      "       B_avg_opp_CLINCH_att  B_avg_opp_CLINCH_landed  B_avg_GROUND_att  \\\n",
      "count                4585.0                   4585.0            4585.0   \n",
      "...                     ...                      ...               ...   \n",
      "\n",
      "       B_avg_GROUND_landed  B_avg_opp_GROUND_att  B_avg_opp_GROUND_landed  \\\n",
      "count               4585.0                4585.0                   4585.0   \n",
      "...                    ...                   ...                      ...   \n",
      "\n",
      "       B_avg_CTRL_time(seconds)  B_avg_opp_CTRL_time(seconds)  \\\n",
      "count                    4585.0                        4585.0   \n",
      "...                         ...                           ...   \n",
      "\n",
      "       B_total_time_fought(seconds)  B_total_rounds_fought  \\\n",
      "count                        4585.0                 6012.0   \n",
      "...                             ...                    ...   \n",
      "\n",
      "       B_total_title_bouts  B_current_win_streak  B_current_lose_streak  \\\n",
      "count               6012.0                6012.0                 6012.0   \n",
      "...                    ...                   ...                    ...   \n",
      "\n",
      "       B_longest_win_streak  B_wins  B_losses  B_draw  \\\n",
      "count                6012.0  6012.0    6012.0  6012.0   \n",
      "...                     ...     ...       ...     ...   \n",
      "\n",
      "       B_win_by_Decision_Majority  B_win_by_Decision_Split  \\\n",
      "count                      6012.0                   6012.0   \n",
      "...                           ...                      ...   \n",
      "\n",
      "       B_win_by_Decision_Unanimous  B_win_by_KO/TKO  B_win_by_Submission  \\\n",
      "count                       6012.0           6012.0               6012.0   \n",
      "...                            ...              ...                  ...   \n",
      "\n",
      "       B_win_by_TKO_Doctor_Stoppage  B_Height_cms  B_Reach_cms  B_Weight_lbs  \\\n",
      "count                        6012.0        6002.0       5121.0        6004.0   \n",
      "...                             ...           ...          ...           ...   \n",
      "\n",
      "       R_avg_KD  R_avg_opp_KD  R_avg_SIG_STR_pct  R_avg_opp_SIG_STR_pct  \\\n",
      "count    5300.0        5300.0             5300.0                 5300.0   \n",
      "...         ...           ...                ...                    ...   \n",
      "\n",
      "       R_avg_TD_pct  R_avg_opp_TD_pct  R_avg_SUB_ATT  R_avg_opp_SUB_ATT  \\\n",
      "count        5300.0            5300.0         5300.0             5300.0   \n",
      "...             ...               ...            ...                ...   \n",
      "\n",
      "       R_avg_REV  R_avg_opp_REV  R_avg_SIG_STR_att  R_avg_SIG_STR_landed  \\\n",
      "count     5300.0         5300.0             5300.0                5300.0   \n",
      "...          ...            ...                ...                   ...   \n",
      "\n",
      "       R_avg_opp_SIG_STR_att  R_avg_opp_SIG_STR_landed  R_avg_TOTAL_STR_att  \\\n",
      "count                 5300.0                    5300.0               5300.0   \n",
      "...                      ...                       ...                  ...   \n",
      "\n",
      "       R_avg_TOTAL_STR_landed  R_avg_opp_TOTAL_STR_att  \\\n",
      "count                  5300.0                   5300.0   \n",
      "...                       ...                      ...   \n",
      "\n",
      "       R_avg_opp_TOTAL_STR_landed  R_avg_TD_att  R_avg_TD_landed  \\\n",
      "count                      5300.0        5300.0           5300.0   \n",
      "...                           ...           ...              ...   \n",
      "\n",
      "       R_avg_opp_TD_att  R_avg_opp_TD_landed  R_avg_HEAD_att  \\\n",
      "count            5300.0               5300.0          5300.0   \n",
      "...                 ...                  ...             ...   \n",
      "\n",
      "       R_avg_HEAD_landed  R_avg_opp_HEAD_att  R_avg_opp_HEAD_landed  \\\n",
      "count             5300.0              5300.0                 5300.0   \n",
      "...                  ...                 ...                    ...   \n",
      "\n",
      "       R_avg_BODY_att  R_avg_BODY_landed  R_avg_opp_BODY_att  \\\n",
      "count          5300.0             5300.0              5300.0   \n",
      "...               ...                ...                 ...   \n",
      "\n",
      "       R_avg_opp_BODY_landed  R_avg_LEG_att  R_avg_LEG_landed  \\\n",
      "count                 5300.0         5300.0            5300.0   \n",
      "...                      ...            ...               ...   \n",
      "\n",
      "       R_avg_opp_LEG_att  R_avg_opp_LEG_landed  R_avg_DISTANCE_att  \\\n",
      "count             5300.0                5300.0              5300.0   \n",
      "...                  ...                   ...                 ...   \n",
      "\n",
      "       R_avg_DISTANCE_landed  R_avg_opp_DISTANCE_att  \\\n",
      "count                 5300.0                  5300.0   \n",
      "...                      ...                     ...   \n",
      "\n",
      "       R_avg_opp_DISTANCE_landed  R_avg_CLINCH_att  R_avg_CLINCH_landed  \\\n",
      "count                     5300.0            5300.0               5300.0   \n",
      "...                          ...               ...                  ...   \n",
      "\n",
      "       R_avg_opp_CLINCH_att  R_avg_opp_CLINCH_landed  R_avg_GROUND_att  \\\n",
      "count                5300.0                   5300.0            5300.0   \n",
      "...                     ...                      ...               ...   \n",
      "\n",
      "       R_avg_GROUND_landed  R_avg_opp_GROUND_att  R_avg_opp_GROUND_landed  \\\n",
      "count               5300.0                5300.0                   5300.0   \n",
      "...                    ...                   ...                      ...   \n",
      "\n",
      "       R_avg_CTRL_time(seconds)  R_avg_opp_CTRL_time(seconds)  \\\n",
      "count                    5300.0                        5300.0   \n",
      "...                         ...                           ...   \n",
      "\n",
      "       R_total_time_fought(seconds)  R_total_rounds_fought  \\\n",
      "count                        5300.0                 6012.0   \n",
      "...                             ...                    ...   \n",
      "\n",
      "       R_total_title_bouts  R_current_win_streak  R_current_lose_streak  \\\n",
      "count               6012.0                6012.0                 6012.0   \n",
      "...                    ...                   ...                    ...   \n",
      "\n",
      "       R_longest_win_streak  R_wins  R_losses  R_draw  \\\n",
      "count                6012.0  6012.0    6012.0  6012.0   \n",
      "...                     ...     ...       ...     ...   \n",
      "\n",
      "       R_win_by_Decision_Majority  R_win_by_Decision_Split  \\\n",
      "count                      6012.0                   6012.0   \n",
      "...                           ...                      ...   \n",
      "\n",
      "       R_win_by_Decision_Unanimous  R_win_by_KO/TKO  R_win_by_Submission  \\\n",
      "count                       6012.0           6012.0               6012.0   \n",
      "...                            ...              ...                  ...   \n",
      "\n",
      "       R_win_by_TKO_Doctor_Stoppage  R_Height_cms  R_Reach_cms  R_Weight_lbs  \\\n",
      "count                        6012.0        6008.0       5606.0        6010.0   \n",
      "...                             ...           ...          ...           ...   \n",
      "\n",
      "        B_age   R_age  \n",
      "count  5840.0  5949.0  \n",
      "...       ...     ...  \n",
      "\n",
      "[8 rows x 134 columns]\n"
     ]
    }
   ],
   "source": [
    "pd.set_option('display.max_columns', None)\n",
    "pd.set_option('display.max_rows', 1)\n",
    "\n",
    "print(ufc_data.describe())"
   ]
  },
  {
   "cell_type": "markdown",
   "metadata": {},
   "source": [
    "## Relevant Columns\n",
    "The relevant columns that I will likely need are as follows:\n",
    "- R_fighter (Red fighter name)\n",
    "- B_fighter (Blue fighter name)\n",
    "- date (Date fight occurred)\n",
    "- Winner (Winner of fight (either red or blue))\n",
    "- KD (Number of knockdowns)\n",
    "- SIG_STR (No. Significant Strikes Landed)\n",
    "- SIG_STR_pct (Significant strikes as percentage)\n",
    "- TOTAL_STR (Total no. strikes landed)\n",
    "- TD (No. Takedowns)\n",
    "- TD_pct (Takedown percentages)\n",
    "- HEAD (No. significant strikes landed to body)\n",
    "- BODY (No. significant strikes landed to body)\n",
    "- CLINCH (No. significant strikes landed in clinch)\n",
    "- GROUND (No. significant strikes landed while on the ground)\n",
    "- win_by (Method of win)\n",
    "\n",
    "Now that the relevant columns have been identified, we can begin reducing the dimensionality of the dataset and leave only the columns listed above."
   ]
  },
  {
   "cell_type": "code",
   "execution_count": 7,
   "metadata": {},
   "outputs": [],
   "source": [
    "# List of column names to be imported to Pandas data frame\n",
    "columns_to_import = ['R_fighter', 'B_fighter', 'date', 'Winner', \n",
    "                     'B_avg_SIG_STR_pct', 'B_avg_SIG_STR_att', 'B_avg_SIG_STR_landed', 'B_avg_SIG_STR_pct', 'B_avg_LEG_att', 'B_avg_LEG_att', 'B_avg_HEAD_att', 'B_avg_HEAD_att',\n",
    "                     'R_avg_SIG_STR_pct', 'R_avg_SIG_STR_att', 'R_avg_SIG_STR_landed', 'R_avg_SIG_STR_pct', 'R_avg_LEG_att', 'R_avg_LEG_att', 'R_avg_HEAD_att', 'R_avg_HEAD_att']"
   ]
  },
  {
   "cell_type": "code",
   "execution_count": 8,
   "metadata": {},
   "outputs": [],
   "source": [
    "data_red = pd.read_csv(\"data.csv\", usecols=columns_to_import)"
   ]
  },
  {
   "cell_type": "code",
   "execution_count": null,
   "metadata": {},
   "outputs": [],
   "source": []
  },
  {
   "cell_type": "markdown",
   "metadata": {},
   "source": []
  }
 ],
 "metadata": {
  "kernelspec": {
   "display_name": "Python 3",
   "language": "python",
   "name": "python3"
  },
  "language_info": {
   "codemirror_mode": {
    "name": "ipython",
    "version": 3
   },
   "file_extension": ".py",
   "mimetype": "text/x-python",
   "name": "python",
   "nbconvert_exporter": "python",
   "pygments_lexer": "ipython3",
   "version": "3.11.6"
  },
  "orig_nbformat": 4
 },
 "nbformat": 4,
 "nbformat_minor": 2
}
